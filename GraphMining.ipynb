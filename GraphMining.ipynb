{
 "cells": [
  {
   "cell_type": "code",
   "execution_count": null,
   "metadata": {},
   "outputs": [],
   "source": [
    "\"\"\"\n",
    "Imports de librairies\n",
    "\"\"\"\n",
    "%matplotlib inline\n",
    "import matplotlib.pyplot as plt\n",
    "from scipy.stats import bernoulli\n",
    "import numpy as np\n",
    "import math\n",
    "import scipy.stats\n",
    "import random \n",
    "import scipy\n",
    "import matplotlib.pyplot as plt\n",
    "import networkx as nx"
   ]
  }
 ],
 "metadata": {
  "language_info": {
   "name": "python"
  }
 },
 "nbformat": 4,
 "nbformat_minor": 2
}
